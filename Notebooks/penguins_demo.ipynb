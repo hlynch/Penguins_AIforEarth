{
 "cells": [
  {
   "cell_type": "markdown",
   "metadata": {},
   "source": [
    "# AI for Earth Penguins Guano Classification API\n",
    "---\n",
    "\n",
    "> Demo for the AI for Earth Penguin Guano Classification API. This API runs semantic segmentation to detect rosy guano patches from penguin colonies in high-resolution satellite imagery using a U-Net variant. API includes a frontent hosted on flask and a backend running a pre-trained U-Net trained on over 4000 images of Adélie penguin colonies. API supports imagery from Google Earth. \n",
    "\n",
    "### Notebook contents:\n",
    "1. Connect to API server (requires flask, tested with ).\n",
    "2. Explore example images. \n",
    "3. Upload your own imagery.\n",
    "4. Extract penguin colonies from Google Earth Pro. \n",
    "5. Learn more about the Guano classification API.\n",
    "\n",
    "Check us out on on [GitHub](https://github.com/iceberg-project/Penguins/tree/devel) for more information about the model behind the API. To learn more about the research behind the model, visit us at [LynchLab.com](https://lynchlab.com/).\n",
    "\n",
    "Visit the [API home page](https://www.microsoft.com/en-us/ai/ai-for-earth-tech-resources) for more information or to request an API key.  "
   ]
  },
  {
   "cell_type": "markdown",
   "metadata": {},
   "source": [
    "## 1. Connect with API server\n",
    "---\n",
    "* Make sure you have flask installed.\n",
    "* Navigate to the */Demo* directory from the root of this repository."
   ]
  },
  {
   "cell_type": "code",
   "execution_count": 3,
   "metadata": {
    "scrolled": true
   },
   "outputs": [
    {
     "name": "stdout",
     "output_type": "stream",
     "text": [
      "Requirement already satisfied: flask==1.1.2 in /home/bento/.conda/envs/birding/lib/python3.7/site-packages (1.1.2)\r\n",
      "Requirement already satisfied: itsdangerous>=0.24 in /home/bento/.conda/envs/birding/lib/python3.7/site-packages (from flask==1.1.2) (1.1.0)\r\n",
      "Requirement already satisfied: Werkzeug>=0.15 in /home/bento/.conda/envs/birding/lib/python3.7/site-packages (from flask==1.1.2) (1.0.1)\r\n",
      "Requirement already satisfied: click>=5.1 in /home/bento/.conda/envs/birding/lib/python3.7/site-packages (from flask==1.1.2) (7.0)\r\n",
      "Requirement already satisfied: Jinja2>=2.10.1 in /home/bento/.conda/envs/birding/lib/python3.7/site-packages (from flask==1.1.2) (2.11.2)\r\n",
      "Requirement already satisfied: MarkupSafe>=0.23 in /home/bento/.conda/envs/birding/lib/python3.7/site-packages (from Jinja2>=2.10.1->flask==1.1.2) (1.1.1)\r\n"
     ]
    }
   ],
   "source": [
    "# optional, install flask\n",
    "!pip install flask==1.1.2"
   ]
  },
  {
   "cell_type": "markdown",
   "metadata": {},
   "source": [
    "### connect with the API\n",
    "\n",
    "Run the following lines in your CLI:\n",
    "```\n",
    "export FLASK_APP=frontend-server.py\n",
    "python -m flask run --host=0.0.0.0\n",
    "```\n",
    "\n",
    "To access the website, enter your IP address:5000 into a browser.\n",
    "e.g., http://127.0.0.1:5000/"
   ]
  },
  {
   "cell_type": "markdown",
   "metadata": {},
   "source": [
    "## 2. Explore example images. \n",
    "* Examples available inside the home page of the API website. Hover over example images and click on **Classify** to generate a guano mask for that image. \n",
    "\n",
    "![](notebook_images/section2_examples.png)"
   ]
  },
  {
   "cell_type": "markdown",
   "metadata": {},
   "source": [
    "## 3. Upload your own imagery.\n",
    "* Browse your computer for images to be classified. Accessible through the menu in the upper right corner of the API website. \n",
    "![](notebook_images/section3_upload.png)"
   ]
  },
  {
   "cell_type": "markdown",
   "metadata": {},
   "source": [
    "## 4. Extract penguin colonies from Google Earth Pro. \n",
    "* Detailed instructions for extracting images from Google Earth Pro and generating penguin guano masks for those images. Accessible through the menu in the upper right corner of the API website. \n",
    "![](notebook_images/section4_googleEarth.png)"
   ]
  },
  {
   "cell_type": "markdown",
   "metadata": {},
   "source": [
    "## 5. Learn more\n",
    "* For more information about the API, visit http://127.0.0.1:5000/about.html (may or may not work depening on your IP address) or navigate using the menu in the upper right corner of the API website. "
   ]
  }
 ],
 "metadata": {
  "kernelspec": {
   "display_name": "Python 3",
   "language": "python",
   "name": "python3"
  },
  "language_info": {
   "codemirror_mode": {
    "name": "ipython",
    "version": 3
   },
   "file_extension": ".py",
   "mimetype": "text/x-python",
   "name": "python",
   "nbconvert_exporter": "python",
   "pygments_lexer": "ipython3",
   "version": "3.7.6"
  }
 },
 "nbformat": 4,
 "nbformat_minor": 2
}
