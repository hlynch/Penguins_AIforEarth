{
 "cells": [
  {
   "cell_type": "markdown",
   "metadata": {},
   "source": [
    "## Template API demo\n",
    "\n",
    "Please give a short description of your model here and the benefit it provides.  Also, don't forget to mention your organization here so the world can know that this is your amazing work!\n",
    "\n",
    "This template will load an image, show it, and call a fake API unrelated to that image.  We're guessing your API will do more interesting things."
   ]
  },
  {
   "cell_type": "markdown",
   "metadata": {},
   "source": [
    "### Imports and constants"
   ]
  },
  {
   "cell_type": "code",
   "execution_count": null,
   "metadata": {
    "scrolled": true
   },
   "outputs": [],
   "source": [
    "# If you use any non-standard packages that we wouldn't find via pip/conda, include a\n",
    "# comment about where we should find that package.\n",
    "import os\n",
    "import io\n",
    "import sys\n",
    "import requests\n",
    "import matplotlib.pyplot as plt\n",
    "from PIL import Image\n",
    "\n",
    "# Please leave this in.  When the demo is run subsequent times, it will appear clean, without \n",
    "# the previous results of prior demos cached.  \n",
    "%autosave 0\n",
    "\n",
    "#\n",
    "# Specify any constants and static variables that you need.  This probably includes the URL of your API, \n",
    "# and paths or URLs to access test data.\n",
    "#\n",
    "# You are welcome to also provide a configuration file (in .py or .json) if there are variables that you\n",
    "# would like to stay hidden to an audience, like the details of accessing a blob storage account.  \n",
    "#\n",
    "# This test notebook's URL is a fake API that returns a sample .json file\n",
    "#\n",
    "API_URL = 'https://jsonplaceholder.typicode.com/posts/1'\n",
    "\n",
    "# The sample images for purposes of this tutorial is a lovely heron flying above a lovely\n",
    "# pond, because birds.\n",
    "SAMPLE_IMAGE_URL = 'https://github.com/Microsoft/AIforEarth-API-Development/raw/master/Notebooks/demo_image.jpg'\n"
   ]
  },
  {
   "cell_type": "markdown",
   "metadata": {},
   "source": [
    "### Functions"
   ]
  },
  {
   "cell_type": "code",
   "execution_count": null,
   "metadata": {
    "scrolled": true
   },
   "outputs": [],
   "source": [
    "# Replace this cell with any helper functions that your code requires.  Functions that\n",
    "# retrieve data, display an image, plot data, etc. can live here.  \n",
    "\n",
    "def get_image():\n",
    "    \n",
    "    image_data = requests.get(SAMPLE_IMAGE_URL) \n",
    "    return image_data.content\n",
    "    \n",
    "def show_image(img):\n",
    "    \n",
    "    img = Image.open(io.BytesIO(img))\n",
    "    plt.imshow(img)\n",
    "\n",
    "def call_my_api():\n",
    "    \n",
    "    try:           \n",
    "        r = requests.get(API_URL)\n",
    "\n",
    "        if r.ok:\n",
    "            return r.json()\n",
    "        else:\n",
    "            return None\n",
    "\n",
    "    except Exception as e:\n",
    "        print('Exception running API: {}'.format(e))\n"
   ]
  },
  {
   "cell_type": "markdown",
   "metadata": {},
   "source": [
    "\n",
    "### Retrieve and display images"
   ]
  },
  {
   "cell_type": "code",
   "execution_count": null,
   "metadata": {},
   "outputs": [],
   "source": [
    "# Replace this cell with code to display your input, if needed.  For computer vision APIs,\n",
    "# it's nice to see the input image before we see your results.\n",
    "testImage = get_image()\n",
    "show_image(testImage)"
   ]
  },
  {
   "cell_type": "markdown",
   "metadata": {},
   "source": [
    "### Call API and show results"
   ]
  },
  {
   "cell_type": "code",
   "execution_count": null,
   "metadata": {},
   "outputs": [],
   "source": [
    "# Replace this code with code to call your machine learning model and show results.\n",
    "result = call_my_api()\n",
    "\n",
    "print('I though an awful lot about this image and I decided it''s a [{}]'.format(result['title']))"
   ]
  }
 ],
 "metadata": {
  "kernelspec": {
   "display_name": "Python 3",
   "language": "python",
   "name": "python3"
  },
  "language_info": {
   "codemirror_mode": {
    "name": "ipython",
    "version": 3
   },
   "file_extension": ".py",
   "mimetype": "text/x-python",
   "name": "python",
   "nbconvert_exporter": "python",
   "pygments_lexer": "ipython3",
   "version": "3.6.5"
  }
 },
 "nbformat": 4,
 "nbformat_minor": 2
}
